{
 "cells": [
  {
   "cell_type": "code",
   "execution_count": 1,
   "metadata": {},
   "outputs": [],
   "source": [
    "import pandas as pd\n",
    "import numpy as np\n",
    "from sklearn.model_selection import train_test_split\n",
    "from sklearn.pipeline import Pipeline\n",
    "from sklearn.impute import SimpleImputer\n",
    "from sklearn.preprocessing import OneHotEncoder, StandardScaler, LabelEncoder\n",
    "from sklearn.compose import ColumnTransformer\n",
    "\n",
    "# import ensemble methods\n",
    "from sklearn.ensemble import (\n",
    "    BaggingClassifier,\n",
    "    AdaBoostClassifier,\n",
    "    GradientBoostingClassifier,\n",
    "    VotingClassifier,\n",
    "    StackingClassifier,\n",
    ")\n",
    "from xgboost import XGBClassifier\n",
    "\n",
    "# import base estimators\n",
    "from sklearn.tree import DecisionTreeClassifier\n",
    "from sklearn.linear_model import LogisticRegression\n",
    "from sklearn.svm import SVC\n",
    "from sklearn.model_selection import GridSearchCV\n",
    "from sklearn.metrics import (\n",
    "    accuracy_score,\n",
    "    f1_score,\n",
    "    ConfusionMatrixDisplay,\n",
    "    RocCurveDisplay,\n",
    ")\n",
    "import matplotlib.pyplot as plt\n",
    "import warnings\n",
    "\n",
    "warnings.filterwarnings(\n",
    "    \"ignore\", category=DeprecationWarning\n",
    ")  # to avoid deprecation warnings\n",
    "\n",
    "import plotly.express as px\n",
    "import plotly.graph_objects as go\n",
    "import plotly.io as pio\n",
    "\n",
    "# setting Jedha color palette as default\n",
    "pio.templates[\"jedha\"] = go.layout.Template(\n",
    "    layout_colorway=[\n",
    "        \"#4B9AC7\",\n",
    "        \"#4BE8E0\",\n",
    "        \"#9DD4F3\",\n",
    "        \"#97FBF6\",\n",
    "        \"#2A7FAF\",\n",
    "        \"#23B1AB\",\n",
    "        \"#0E3449\",\n",
    "        \"#015955\",\n",
    "    ]\n",
    ")\n",
    "pio.templates.default = \"jedha\"\n",
    "pio.renderers.default = \"svg\"  # to be replaced by \"iframe\" if working on JULIE"
   ]
  },
  {
   "cell_type": "code",
   "execution_count": 2,
   "metadata": {},
   "outputs": [
    {
     "data": {
      "text/html": [
       "<div>\n",
       "<style scoped>\n",
       "    .dataframe tbody tr th:only-of-type {\n",
       "        vertical-align: middle;\n",
       "    }\n",
       "\n",
       "    .dataframe tbody tr th {\n",
       "        vertical-align: top;\n",
       "    }\n",
       "\n",
       "    .dataframe thead th {\n",
       "        text-align: right;\n",
       "    }\n",
       "</style>\n",
       "<table border=\"1\" class=\"dataframe\">\n",
       "  <thead>\n",
       "    <tr style=\"text-align: right;\">\n",
       "      <th></th>\n",
       "      <th>country</th>\n",
       "      <th>age</th>\n",
       "      <th>new_user</th>\n",
       "      <th>source</th>\n",
       "      <th>total_pages_visited</th>\n",
       "      <th>converted</th>\n",
       "    </tr>\n",
       "  </thead>\n",
       "  <tbody>\n",
       "    <tr>\n",
       "      <th>0</th>\n",
       "      <td>China</td>\n",
       "      <td>22</td>\n",
       "      <td>1</td>\n",
       "      <td>Direct</td>\n",
       "      <td>2</td>\n",
       "      <td>0</td>\n",
       "    </tr>\n",
       "    <tr>\n",
       "      <th>1</th>\n",
       "      <td>UK</td>\n",
       "      <td>21</td>\n",
       "      <td>1</td>\n",
       "      <td>Ads</td>\n",
       "      <td>3</td>\n",
       "      <td>0</td>\n",
       "    </tr>\n",
       "    <tr>\n",
       "      <th>2</th>\n",
       "      <td>Germany</td>\n",
       "      <td>20</td>\n",
       "      <td>0</td>\n",
       "      <td>Seo</td>\n",
       "      <td>14</td>\n",
       "      <td>1</td>\n",
       "    </tr>\n",
       "    <tr>\n",
       "      <th>3</th>\n",
       "      <td>US</td>\n",
       "      <td>23</td>\n",
       "      <td>1</td>\n",
       "      <td>Seo</td>\n",
       "      <td>3</td>\n",
       "      <td>0</td>\n",
       "    </tr>\n",
       "    <tr>\n",
       "      <th>4</th>\n",
       "      <td>US</td>\n",
       "      <td>28</td>\n",
       "      <td>1</td>\n",
       "      <td>Direct</td>\n",
       "      <td>3</td>\n",
       "      <td>0</td>\n",
       "    </tr>\n",
       "  </tbody>\n",
       "</table>\n",
       "</div>"
      ],
      "text/plain": [
       "   country  age  new_user  source  total_pages_visited  converted\n",
       "0    China   22         1  Direct                    2          0\n",
       "1       UK   21         1     Ads                    3          0\n",
       "2  Germany   20         0     Seo                   14          1\n",
       "3       US   23         1     Seo                    3          0\n",
       "4       US   28         1  Direct                    3          0"
      ]
     },
     "execution_count": 2,
     "metadata": {},
     "output_type": "execute_result"
    }
   ],
   "source": [
    "df = pd.read_csv('conversion_data_train.csv')\n",
    "df.head()"
   ]
  },
  {
   "cell_type": "markdown",
   "metadata": {},
   "source": [
    "### LOGISTIC REGRESSION BASELINE "
   ]
  },
  {
   "cell_type": "code",
   "execution_count": 3,
   "metadata": {},
   "outputs": [],
   "source": [
    "target_variable = 'converted'\n",
    "X = df.drop([target_variable], axis=1)\n",
    "y = df[target_variable]\n"
   ]
  },
  {
   "cell_type": "code",
   "execution_count": 4,
   "metadata": {},
   "outputs": [],
   "source": [
    "numerical_features = ['age', 'total_pages_visited']\n",
    "categorical_features = ['country', 'new_user', 'source']"
   ]
  },
  {
   "cell_type": "code",
   "execution_count": 5,
   "metadata": {},
   "outputs": [],
   "source": [
    "X_train, X_test, y_train, y_test = train_test_split(X, y, test_size=0.2, random_state=42, stratify=y)"
   ]
  },
  {
   "cell_type": "markdown",
   "metadata": {},
   "source": [
    "### TEMPLATE PREPROCESSING"
   ]
  },
  {
   "cell_type": "code",
   "execution_count": 1,
   "metadata": {},
   "outputs": [
    {
     "data": {
      "text/plain": [
       "\"\\n# Création du pipeline pour les variables quantitatives\\nnumeric_features = [1,2,3] # Positions des colonnes quantitatives dans X\\nnumeric_transformer = Pipeline(steps=[\\n    ('scaler', StandardScaler()) # pour normaliser les variables\\n])\\n\\n# Création du pipeline pour les variables catégorielles\\ncategorical_features = [0] # Positions des colonnes catégorielles dans X\\ncategorical_transformer = Pipeline(\\n    steps=[\\n    ('encoder', OneHotEncoder(drop='first')) # on encode les catégories sous forme de colonnes comportant des 0 et des 1\\n    ])\\n\\n# On combine les pipelines dans un ColumnTransformer\\npreprocessor = ColumnTransformer(\\n    transformers=[\\n        ('num', numeric_transformer, numeric_features),\\n        ('cat', categorical_transformer, categorical_features)\\n    ])\\n\""
      ]
     },
     "execution_count": 1,
     "metadata": {},
     "output_type": "execute_result"
    }
   ],
   "source": [
    "'''\n",
    "# Création du pipeline pour les variables quantitatives\n",
    "numeric_features = [1,2,3] # Positions des colonnes quantitatives dans X\n",
    "numeric_transformer = Pipeline(steps=[\n",
    "    ('scaler', StandardScaler()) # pour normaliser les variables\n",
    "])\n",
    "\n",
    "# Création du pipeline pour les variables catégorielles\n",
    "categorical_features = [0] # Positions des colonnes catégorielles dans X\n",
    "categorical_transformer = Pipeline(\n",
    "    steps=[\n",
    "    ('encoder', OneHotEncoder(drop='first')) # on encode les catégories sous forme de colonnes comportant des 0 et des 1\n",
    "    ])\n",
    "\n",
    "# On combine les pipelines dans un ColumnTransformer\n",
    "preprocessor = ColumnTransformer(\n",
    "    transformers=[\n",
    "        ('num', numeric_transformer, numeric_features),\n",
    "        ('cat', categorical_transformer, categorical_features)\n",
    "    ])\n",
    "'''"
   ]
  },
  {
   "cell_type": "code",
   "execution_count": 6,
   "metadata": {},
   "outputs": [],
   "source": [
    "# numerical_imputer = SimpleImputer(strategy='mean') mais pas besoin car pas de valeurs manquantes\n",
    "numerical_scaler = StandardScaler()\n",
    "\n",
    "# categorical_imputer = SimpleImputer(strategy='constant', fill_value='UNKNOWN') mais pas besoin car pas de valeurs manquantes\n",
    "categorical_encoder = OneHotEncoder(drop='first')\n",
    "\n",
    "# Group our transformers\n",
    "\n",
    "numeric_pipeline = Pipeline([\n",
    "  #('numeric_imputer', numerical_imputer),\n",
    "  ('numeric_scaler', numerical_scaler)\n",
    "])\n",
    "\n",
    "categoric_pipeline = Pipeline([\n",
    "  #('categoric_imputer', categorical_imputer),\n",
    "  ('categoric_encoder', categorical_encoder)\n",
    "])\n",
    "\n",
    "preprocessor = ColumnTransformer([\n",
    "  ('numeric_pipeline', numeric_pipeline, numerical_features),\n",
    "  ('categoric_pipeline', categoric_pipeline, categorical_features),\n",
    "])"
   ]
  },
  {
   "cell_type": "code",
   "execution_count": 7,
   "metadata": {},
   "outputs": [],
   "source": [
    "preprocessor.fit(X_train)\n",
    "X_train = preprocessor.transform(X_train)\n",
    "X_test = preprocessor.transform(X_test)"
   ]
  },
  {
   "cell_type": "code",
   "execution_count": 8,
   "metadata": {},
   "outputs": [
    {
     "name": "stdout",
     "output_type": "stream",
     "text": [
      "Accuracy on train set is 0.9861418581769625\n",
      "f1_score on train set is 0.7617969044922612\n",
      "Accuracy on test set is 0.9865591397849462\n",
      "f1_score on test set is 0.7678300455235205\n",
      "Precision score is 0.8670322138450994\n",
      "Recall score is 0.6889978213507625\n"
     ]
    }
   ],
   "source": [
    "reg_log = LogisticRegression()\n",
    "reg_log.fit(X_train, y_train)\n",
    "\n",
    "\n",
    "y_train_pred = reg_log.predict(X_train)\n",
    "y_test_pred = reg_log.predict(X_test)\n",
    "\n",
    "print(f\"Accuracy on train set is {accuracy_score(y_train, y_train_pred)}\")\n",
    "print(f\"f1_score on train set is {f1_score(y_train, y_train_pred)}\")\n",
    "print(f\"Accuracy on test set is {accuracy_score(y_test, y_test_pred)}\")\n",
    "print(f\"f1_score on test set is {f1_score(y_test, y_test_pred)}\")\n",
    "\n",
    "from sklearn.metrics import precision_score, recall_score\n",
    "print(f\"Precision score is {precision_score(y_test, y_test_pred)}\") #proportion de vrais positifs parmi tous les positifs PREDITS\n",
    "print(f\"Recall score is {recall_score(y_test, y_test_pred)}\")#propostion de vrais positifs détectés parmis tous les positifs REELS\n"
   ]
  },
  {
   "cell_type": "code",
   "execution_count": 9,
   "metadata": {},
   "outputs": [
    {
     "data": {
      "image/png": "[encoded data removed]",
      "text/plain": [
       "<Figure size 640x480 with 2 Axes>"
      ]
     },
     "metadata": {},
     "output_type": "display_data"
    },
    {
     "data": {
      "image/png": "[encoded data removed]",
      "text/plain": [
       "<Figure size 640x480 with 2 Axes>"
      ]
     },
     "metadata": {},
     "output_type": "display_data"
    }
   ],
   "source": [
    "_, ax = plt.subplots()  # Get subplot from matplotlib\n",
    "ax.set(\n",
    "    title=\"Confusion Matrix on Train set\"\n",
    ")  # Set a title that we will add into ConfusionMatrixDisplay\n",
    "ConfusionMatrixDisplay.from_estimator(\n",
    "    reg_log, X_train, y_train, ax=ax\n",
    ")  # ConfusionMatrixDisplay from sklearn\n",
    "plt.show()\n",
    "\n",
    "_, ax = plt.subplots()  # Get subplot from matplotlib\n",
    "ax.set(\n",
    "    title=\"Confusion Matrix on Test set\"\n",
    ")  # Set a title that we will add into ConfusionMatrixDisplay\n",
    "ConfusionMatrixDisplay.from_estimator(\n",
    "    reg_log, X_test, y_test, ax=ax\n",
    ")  # ConfusionMatrixDisplay from sklearn\n",
    "plt.show()"
   ]
  },
  {
   "cell_type": "markdown",
   "metadata": {},
   "source": [
    "### BAGGING CLASSIFIER"
   ]
  },
  {
   "cell_type": "code",
   "execution_count": 12,
   "metadata": {},
   "outputs": [
    {
     "name": "stdout",
     "output_type": "stream",
     "text": [
      "Accuracy on train set is 0.9861550354908989\n",
      "f1_score on train set is 0.7622567506411223\n",
      "Accuracy on test set is 0.9864712910253707\n",
      "f1_score on test set is 0.7668079951544519\n",
      "Precision score is 0.8635743519781719\n",
      "Recall score is 0.6895424836601307\n"
     ]
    }
   ],
   "source": [
    "bagging = BaggingClassifier(estimator=reg_log, n_estimators=10, random_state=42)\n",
    "\n",
    "bagging.fit(X_train, y_train)\n",
    "\n",
    "y_train_pred_bag = bagging.predict(X_train)\n",
    "y_test_pred_bag = bagging.predict(X_test)\n",
    "\n",
    "\n",
    "print(f\"Accuracy on train set is {accuracy_score(y_train, y_train_pred_bag)}\")\n",
    "print(f\"f1_score on train set is {f1_score(y_train, y_train_pred_bag)}\")\n",
    "print(f\"Accuracy on test set is {accuracy_score(y_test, y_test_pred_bag)}\")\n",
    "print(f\"f1_score on test set is {f1_score(y_test, y_test_pred_bag)}\")\n",
    "\n",
    "from sklearn.metrics import precision_score, recall_score\n",
    "print(f\"Precision score is {precision_score(y_test, y_test_pred_bag)}\") #proportion de vrais positifs parmi tous les positifs PREDITS\n",
    "print(f\"Recall score is {recall_score(y_test, y_test_pred_bag)}\")\n"
   ]
  },
  {
   "cell_type": "markdown",
   "metadata": {},
   "source": [
    "## TEST"
   ]
  },
  {
   "cell_type": "code",
   "execution_count": null,
   "metadata": {},
   "outputs": [
    {
     "ename": "NameError",
     "evalue": "name 'gridsearch' is not defined",
     "output_type": "error",
     "traceback": [
      "\u001b[1;31m---------------------------------------------------------------------------\u001b[0m",
      "\u001b[1;31mNameError\u001b[0m                                 Traceback (most recent call last)",
      "Cell \u001b[1;32mIn[11], line 4\u001b[0m\n\u001b[0;32m      1\u001b[0m X \u001b[38;5;241m=\u001b[39m np\u001b[38;5;241m.\u001b[39mappend(X_train, X_test, axis\u001b[38;5;241m=\u001b[39m\u001b[38;5;241m0\u001b[39m)\n\u001b[0;32m      2\u001b[0m y \u001b[38;5;241m=\u001b[39m np\u001b[38;5;241m.\u001b[39mappend(y_train, y_test)\n\u001b[1;32m----> 4\u001b[0m gridsearch\u001b[38;5;241m.\u001b[39mfit(X, y)\n\u001b[0;32m      5\u001b[0m df_test \u001b[38;5;241m=\u001b[39m pd\u001b[38;5;241m.\u001b[39mread_csv(\u001b[38;5;124m'\u001b[39m\u001b[38;5;124mconversion_data_test.csv\u001b[39m\u001b[38;5;124m'\u001b[39m)\n\u001b[0;32m      6\u001b[0m X_without_labels \u001b[38;5;241m=\u001b[39m df_test\u001b[38;5;241m.\u001b[39mdrop([\u001b[38;5;124m'\u001b[39m\u001b[38;5;124mage\u001b[39m\u001b[38;5;124m'\u001b[39m], axis\u001b[38;5;241m=\u001b[39m\u001b[38;5;241m1\u001b[39m)\n",
      "\u001b[1;31mNameError\u001b[0m: name 'gridsearch' is not defined"
     ]
    }
   ],
   "source": [
    "\n",
    "\n",
    "X = np.append(X_train, X_test, axis=0)\n",
    "y = np.append(y_train, y_test)\n",
    "\n",
    "gridsearch.fit(X, y)\n",
    "df_test = pd.read_csv('conversion_data_test.csv')\n",
    "X_without_labels = df_test.drop(['age'], axis=1)\n",
    "X_without_labels = preprocessor.transform(X_without_labels)\n",
    "\n",
    "gridsearch.predict(X_without_labels)\n",
    "\n"
   ]
  },
  {
   "cell_type": "code",
   "execution_count": null,
   "metadata": {},
   "outputs": [],
   "source": [
    "data = {\n",
    "    'converted': gridsearch.predict(X_without_labels)\n",
    "}\n",
    "\n",
    "Y_predictions = pd.DataFrame(columns=['converted'],data=data)\n",
    "Y_predictions.to_csv('conversion_data_test_predictions_Clement-tikitaka.csv', index=False)"
   ]
  }
 ],
 "metadata": {
  "kernelspec": {
   "display_name": "base",
   "language": "python",
   "name": "python3"
  },
  "language_info": {
   "codemirror_mode": {
    "name": "ipython",
    "version": 3
   },
   "file_extension": ".py",
   "mimetype": "text/x-python",
   "name": "python",
   "nbconvert_exporter": "python",
   "pygments_lexer": "ipython3",
   "version": "3.12.4"
  }
 },
 "nbformat": 4,
 "nbformat_minor": 2
}
